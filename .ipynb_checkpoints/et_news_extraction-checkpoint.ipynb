{
 "cells": [
  {
   "cell_type": "code",
   "execution_count": 1,
   "metadata": {
    "collapsed": true
   },
   "outputs": [],
   "source": [
    "import httplib2\n",
    "import os\n",
    "import pandas as pd\n",
    "import numpy as np\n",
    "from bs4 import BeautifulSoup, SoupStrainer\n",
    "import sys\n",
    "sys.path.append( '../Stocks')\n",
    "from nse_pickle_fns import *\n",
    "from datetime import datetime\n",
    "import time\n",
    "def getSoup(web_url):\n",
    "    http = httplib2.Http()\n",
    "    status, response = http.request(web_url)\n",
    "    return BeautifulSoup(response, \"html.parser\")\n",
    "\n",
    "def get_articleValues(web_url):\n",
    "    output={\n",
    "                'title':'',    'articleid':'',    'author':'',    'date':'','channel':'',    'ibeat_tag':'','visible_title':'' ,\n",
    "                'article_syn':'',    'date_publish_on' :'', 'article_seo':'',  'article_text':'',    'comment_count':''\n",
    "                }\n",
    "    try:\n",
    "        article=getSoup(web_url).find('article')\n",
    "    except:\n",
    "        try:\n",
    "            print(\"***********functional Network issue... waiting few secons...\")\n",
    "            time.sleep(5)\n",
    "            article=getSoup(web_url).find('article')\n",
    "        except:\n",
    "            print(\"***This is other issue returning blank.\")\n",
    "            return output\n",
    "    if(article==None): return output\n",
    "    output= {\n",
    "    'title':article.find('input',{'id':'article_title'})['value'],\n",
    "    'articleid':article['data-articleid'],\n",
    "    'author':article['data-ibeat_author'],\n",
    "    'date':article['data-artidate'],\n",
    "\n",
    "    'channel':article['data-ibeat_channel'],\n",
    "    'ibeat_tag':article['data-ibeat_tag'],\n",
    "\n",
    "    'visible_title':article.find('h1',{'class':'title'}).text,\n",
    "    'article_syn':article.find('input',{'id':'article_syn'})['value'],\n",
    "    'date_publish_on' :article.find('div',{'class':'publish_on'}).text,\n",
    "    'article_seo':article.find('input',{'id':'article_seo'})['value'],\n",
    "    # \n",
    "    'article_text':article.find('div',{'class':'artText'}).text,\n",
    "    'comment_count':article.find('div',{'class':'comment_count'}).find('span').text\n",
    "    }\n",
    "    return output"
   ]
  },
  {
   "cell_type": "code",
   "execution_count": 2,
   "metadata": {
    "collapsed": true
   },
   "outputs": [],
   "source": [
    "et_headlines_pkl_path=r'D:\\SoftwareWebApps\\Python\\python_wb\\news_scrap\\Data\\et_headlines\\\\'\n",
    "et_news_pkl_path=r'D:\\SoftwareWebApps\\Python\\python_wb\\news_scrap\\Data\\et_news\\\\'\n",
    "base_url='https://economictimes.indiatimes.com'\n"
   ]
  },
  {
   "cell_type": "code",
   "execution_count": null,
   "metadata": {},
   "outputs": [
    {
     "name": "stdout",
     "output_type": "stream",
     "text": [
      "2006-03-03.pkl\n",
      "2006-03-03 processing 3 headlines, 1,2,3,Took 0:00:21.255009 h:m:s\n",
      "Number processed sofar is 3 headlines \n",
      "2006-03-04.pkl\n",
      "2006-03-04 processing 3 headlines, 1,2,"
     ]
    }
   ],
   "source": [
    "ftime=datetime.now()\n",
    "t=0\n",
    "nh=0\n",
    "# while(True):\n",
    "s_pklist=os.listdir(et_headlines_pkl_path)\n",
    "exist_pklist=os.listdir(et_news_pkl_path)\n",
    "pklist=np.setdiff1d(s_pklist,exist_pklist)\n",
    "try:\n",
    "    for pfile in pklist:   \n",
    "        i=0\n",
    "#         print(pfile)\n",
    "        hl=load_pkl(et_headlines_pkl_path+pfile)\n",
    "        \n",
    "        news=[]\n",
    "        stime=datetime.now()\n",
    "#         print(len(hl))\n",
    "        print('{} processing {} headlines'.format(pfile[:-4],len(hl)),end=', ')\n",
    "        for h in hl:\n",
    "            i +=1\n",
    "            print(i,end=',')\n",
    "#             print(getSoup(base_url+h['link']).find('article'))\n",
    "            news.append(get_articleValues(base_url+h['link']))\n",
    "        save_pkl(et_news_pkl_path+pfile,news)\n",
    "        t +=i\n",
    "        print('Took {} h:m:s'.format(datetime.now()-stime))\n",
    "        nh +=len(hl)\n",
    "        print('Number processed sofar is {} headlines '.format(nh))\n",
    "except:\n",
    "    print(\"******************************Network issue... waiting few secons...\")\n",
    "    time.sleep(5)\n",
    "print('Total time it took is {} h:m:s'.format(datetime.now()-ftime))\n",
    "print('Number processed sofar is {} headlines '.format(nh))   "
   ]
  },
  {
   "cell_type": "code",
   "execution_count": 1,
   "metadata": {},
   "outputs": [
    {
     "ename": "NameError",
     "evalue": "name 'hl' is not defined",
     "output_type": "error",
     "traceback": [
      "\u001b[1;31m---------------------------------------------------------------------------\u001b[0m",
      "\u001b[1;31mNameError\u001b[0m                                 Traceback (most recent call last)",
      "\u001b[1;32m<ipython-input-1-29913be72756>\u001b[0m in \u001b[0;36m<module>\u001b[1;34m()\u001b[0m\n\u001b[0;32m      1\u001b[0m \u001b[0mmnews\u001b[0m\u001b[1;33m=\u001b[0m\u001b[1;33m[\u001b[0m\u001b[1;33m]\u001b[0m\u001b[1;33m\u001b[0m\u001b[0m\n\u001b[1;32m----> 2\u001b[1;33m \u001b[1;32mfor\u001b[0m \u001b[0mh\u001b[0m \u001b[1;32min\u001b[0m \u001b[0mhl\u001b[0m\u001b[1;33m[\u001b[0m\u001b[1;36m1\u001b[0m\u001b[1;33m:\u001b[0m\u001b[1;36m3\u001b[0m\u001b[1;33m]\u001b[0m\u001b[1;33m:\u001b[0m\u001b[1;33m\u001b[0m\u001b[0m\n\u001b[0m\u001b[0;32m      3\u001b[0m     \u001b[0mi\u001b[0m \u001b[1;33m+=\u001b[0m\u001b[1;36m1\u001b[0m\u001b[1;33m\u001b[0m\u001b[0m\n\u001b[0;32m      4\u001b[0m     \u001b[0mweb_url\u001b[0m\u001b[1;33m=\u001b[0m\u001b[0mbase_url\u001b[0m\u001b[1;33m+\u001b[0m\u001b[0mh\u001b[0m\u001b[1;33m[\u001b[0m\u001b[1;34m'link'\u001b[0m\u001b[1;33m]\u001b[0m\u001b[1;33m\u001b[0m\u001b[0m\n\u001b[0;32m      5\u001b[0m     \u001b[0mprint\u001b[0m\u001b[1;33m(\u001b[0m\u001b[0mweb_url\u001b[0m\u001b[1;33m)\u001b[0m\u001b[1;33m\u001b[0m\u001b[0m\n",
      "\u001b[1;31mNameError\u001b[0m: name 'hl' is not defined"
     ]
    }
   ],
   "source": [
    "mnews=[]\n",
    "for h in hl[1:3]:\n",
    "    i +=1\n",
    "    web_url=base_url+h['link']\n",
    "    print(web_url)\n",
    "    art=getSoup(web_url).find('article')\n",
    "    if(art==None):    print(art)\n",
    "# try:\n",
    "#     getSoup(base_url+h['link'])\n",
    "# except CertificateError as ce:\n",
    "#     print(ce)"
   ]
  }
 ],
 "metadata": {
  "kernelspec": {
   "display_name": "Python 3",
   "language": "python",
   "name": "python3"
  },
  "language_info": {
   "codemirror_mode": {
    "name": "ipython",
    "version": 3
   },
   "file_extension": ".py",
   "mimetype": "text/x-python",
   "name": "python",
   "nbconvert_exporter": "python",
   "pygments_lexer": "ipython3",
   "version": "3.6.1"
  }
 },
 "nbformat": 4,
 "nbformat_minor": 2
}
