{
 "cells": [
  {
   "cell_type": "code",
   "execution_count": null,
   "metadata": {
    "collapsed": true
   },
   "outputs": [],
   "source": [
    "import os\n",
    "import pandas as pd\n",
    "import numpy as np\n",
    "\n",
    "import sys\n",
    "sys.path.append( '../Stocks')\n",
    "from nse_pickle_fns import *"
   ]
  },
  {
   "cell_type": "code",
   "execution_count": null,
   "metadata": {
    "collapsed": true
   },
   "outputs": [],
   "source": [
    "toi_headlines_pkl_path=r'D:\\SoftwareWebApps\\Python\\python_wb\\news_scrap\\Data\\toi_headlines\\\\'\n",
    "toi_news_pkl_path=r'D:\\SoftwareWebApps\\Python\\python_wb\\news_scrap\\Data\\toi_news\\\\'\n",
    "s_pklist=os.listdir(toi_headlines_pkl_path)\n",
    "pklist=os.listdir(toi_news_pkl_path)"
   ]
  },
  {
   "cell_type": "code",
   "execution_count": null,
   "metadata": {
    "collapsed": true
   },
   "outputs": [],
   "source": [
    "for pfile in pklist:  \n",
    "    i=0\n",
    "    hl=load_pkl(toi_headlines_pkl_path+pfile)"
   ]
  }
 ],
 "metadata": {
  "kernelspec": {
   "display_name": "Python 3",
   "language": "python",
   "name": "python3"
  },
  "language_info": {
   "codemirror_mode": {
    "name": "ipython",
    "version": 3
   },
   "file_extension": ".py",
   "mimetype": "text/x-python",
   "name": "python",
   "nbconvert_exporter": "python",
   "pygments_lexer": "ipython3",
   "version": "3.6.1"
  }
 },
 "nbformat": 4,
 "nbformat_minor": 2
}
