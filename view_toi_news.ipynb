{
 "cells": [
  {
   "cell_type": "code",
   "execution_count": 1,
   "metadata": {
    "collapsed": true
   },
   "outputs": [],
   "source": [
    "import os\n",
    "import pandas as pd\n",
    "import numpy as np\n",
    "\n",
    "import sys\n",
    "sys.path.append( '../Stocks')\n",
    "from nse_pickle_fns import *"
   ]
  },
  {
   "cell_type": "code",
   "execution_count": 2,
   "metadata": {
    "collapsed": true
   },
   "outputs": [],
   "source": [
    "toi_headlines_pkl_path=r'D:\\SoftwareWebApps\\Python\\python_wb\\news_scrap\\Data\\toi_headlines\\\\'\n",
    "toi_news_pkl_path=r'D:\\SoftwareWebApps\\Python\\python_wb\\news_scrap\\Data\\toi_news\\\\'\n",
    "s_pklist=os.listdir(toi_headlines_pkl_path)\n",
    "pklist=os.listdir(toi_news_pkl_path)"
   ]
  },
  {
   "cell_type": "code",
   "execution_count": 3,
   "metadata": {
    "collapsed": true
   },
   "outputs": [],
   "source": [
    "news=[]\n",
    "for pfile in pklist:  \n",
    "    news.extend(load_pkl(toi_news_pkl_path+pfile))"
   ]
  },
  {
   "cell_type": "code",
   "execution_count": 6,
   "metadata": {},
   "outputs": [
    {
     "data": {
      "text/plain": [
       "[{'art_seo': 'business/india-business/Car-dealers-caught-in-Bihar-sales-tax-ruling',\n",
       "  'art_text': 'calcutta: dealers of most automobile companies in west bengal are crying foul over the bihar government\\'s notification allowing 4-per cent sales tax on vechiles that are sold across the border. this has rendered the 12 per cent uniform sales tax across the country virtually useless. car dealers in west bengal, orissa, uttar pradesh and madhya pradesh are hapless as the counterparts in bihar continue to enjoy the loophole. ``dealers of passenger cars as well as commercial vehicles are billing outside bihar to pass on price benefit and book more orders,\\'\\' kolkata-based dealers said. dealers in the state plan to approach the finance minister asim dasgupta to put pressure on the rabri devi government for an amendment to the ``unfair\\'\\' notification. ``something needs to be done urgently or the state will lose a sizable sum of revenue. an 8 per cent saving makes a big difference and people will definitely book the cars with dealers in bihar to pocket the sum,\\'\\' they said. there are also reports of dealers in bihar setting up small booking offices in border towns to service clients across the border. \"what they are doing is perfectly legal. they detected the loophole in the notification some 15 days back and have taken advantage of it by pushing interstate sales,\" the dealers acknowledged. incidentally, the madhya pradesh government has also issued a notification offering sales tax rebates on cars sold at a fair in gwalior. the month-long mela is expected to herald brisk sales with rebates of over rs 5,000 per rs 1 lakh spent. the government notification allows concession on sales tax rates in a number of manufactured items including automobiles. a dealer in west bengal argues that though the decline in automobile sales industry might have spurred the bihar government to push sales through a lower tax rate, it was losing out on revenue. ``though there has been a 25 per cent decline in sales, sales tax collection has increased by 48.41 per cent against last year. while the sales tax collection from our sales was rs 43.63 crore in the april-october period in 1999, this year the collection is up to rs 64.76 crore,\\'\\' the dealer said. most dealers, however, feel the uniform sales tax rate needs to be revised from 12 per cent to 8 per cent. ``at the current rate it is too steep. the tax component is nearly 55-60 per cent of the car price and needs to be rationalised,\\'\\' they added. Get latest news & live updates on the go on your pc with News App. Download The Times of India news app for your device. Read more Business news in English and other languages.',\n",
       "  'author': 'THE TIMES OF INDIA NEWS SERVICE',\n",
       "  'highlight': '',\n",
       "  'img_caption': '',\n",
       "  'img_link': '',\n",
       "  'time': '2001-01-04T11:32:33+05:30',\n",
       "  'title': 'Car dealers caught in Bihar sales tax ruling',\n",
       "  'url_short': 'http://toi.in/hFsCFY'},\n",
       " {'art_seo': 'city/delhi/DPCC-stages-Nyay-rally',\n",
       "  'art_text': \"new delhi: the delhi pradesh congress committee organised a massive nyay rally at village wazirpur, ashok vihar on thursday against the indiscriminate closure of industries in residential areas. party members claim 20,140 people courted arrest along with dpcc president subhash chopra. addressing the rally, chopra said lakhs of industrial workers and factory owners were in a fix. their livelihood has been threatened and a majority of them forced on to the roads. the rally was organised by the district congress committee of adarsh nagar. among those who participated were legislator deep chand bandhu, mukesh sharma, senior leaders sajjan kumar, jagdish tytler, kiran chaudhury and leader of opposition in mcd, ram babu sharma and delhi manufacturers' federation president, ajit singh. on friday, the nyaya yudh will continue with congress members of dabir more, nasirpur courting arrest. Get latest news & live updates on the go on your pc with News App. Download The Times of India news app for your device. Read more City news in English and other languages.\",\n",
       "  'author': 'TIMES INTERNET NETWORK',\n",
       "  'highlight': '',\n",
       "  'img_caption': '',\n",
       "  'img_link': '',\n",
       "  'time': '2001-01-04T14:25:46+05:30',\n",
       "  'title': 'DPCC stages Nyay rally',\n",
       "  'url_short': 'http://toi.in/b6EpXb'},\n",
       " {'art_seo': 'city/patna/Druggists-stir-leads-to-shortage-of-medicines',\n",
       "  'art_text': \"patna: on the second day of the drug dealers' strike on tuesday, the markets witnessed a shortage of medicines, especially the life-saving ones, with the retailers not being able to lift their stocks. the situation is likely to worsen after december 29, when the retailers, too, would join the stir. all medicine shops on the govind mitra road, the largest wholesale market of medicines, remained closed since monday. with no conciliatory efforts on part of the state government, the stalemate appears to continue. president of the bihar chemists and druggists association (bcda) b n gupta said that the strike was total and no business was transacted. appreciating the announcement made by jharkhand chief minister babu lal marandi to lift the turn-over-tax (tot) on medicines, he said the association hoped that the bihar government too will follow suit. he further said that a number of trade and business organisations, including the bihar chamber of commerce and intellectuals, expressed solidarity with their cause. the bcda went on an indefinite strike from december 25 to protest against the additional tot imposed on medicines. it maintained that the strike would continue until the government conceded its long-pending and just demands. expressing serious concern over the apathetic attitude of the government, the association said that the decision to impose one per cent tot at each entry point would enhance the cost of the medicines in comparison to the neighbouring states. drugs available at rs 100 in other states will cost rs 112.40 in bihar, it said, adding that this would not only encourage import of stocks from other states but also lead to a severe loss of revenue to the exchequer. the bcda maintained that the common people and the weaker sections of the society would be hit hard as they will have to pay an additional 4.4 per cent tax on each purchase. Get latest news & live updates on the go on your pc with News App. Download The Times of India news app for your device. Read more City news in English and other languages.\",\n",
       "  'author': 'THE TIMES OF INDIA NEWS SERVICE',\n",
       "  'highlight': '',\n",
       "  'img_caption': '',\n",
       "  'img_link': '',\n",
       "  'time': '2001-01-04T14:30:57+05:30',\n",
       "  'title': \"Druggists' stir leads to shortage of medicines\",\n",
       "  'url_short': 'http://toi.in/uo_m7b'}]"
      ]
     },
     "execution_count": 6,
     "metadata": {},
     "output_type": "execute_result"
    }
   ],
   "source": [
    "# pd.DataFrame(news)\n",
    "# news\n",
    "news[1:4]"
   ]
  },
  {
   "cell_type": "code",
   "execution_count": null,
   "metadata": {
    "collapsed": true
   },
   "outputs": [],
   "source": []
  }
 ],
 "metadata": {
  "kernelspec": {
   "display_name": "Python 3",
   "language": "python",
   "name": "python3"
  },
  "language_info": {
   "codemirror_mode": {
    "name": "ipython",
    "version": 3
   },
   "file_extension": ".py",
   "mimetype": "text/x-python",
   "name": "python",
   "nbconvert_exporter": "python",
   "pygments_lexer": "ipython3",
   "version": "3.6.1"
  }
 },
 "nbformat": 4,
 "nbformat_minor": 2
}
