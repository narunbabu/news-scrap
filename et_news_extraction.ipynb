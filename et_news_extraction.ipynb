{
 "cells": [
  {
   "cell_type": "code",
   "execution_count": 2,
   "metadata": {
    "collapsed": true
   },
   "outputs": [],
   "source": [
    "import httplib2\n",
    "import os\n",
    "import pandas as pd\n",
    "import numpy as np\n",
    "from bs4 import BeautifulSoup, SoupStrainer\n",
    "import sys\n",
    "sys.path.append( '../Stocks')\n",
    "from nse_pickle_fns import *\n",
    "from datetime import datetime\n",
    "import time\n",
    "def getSoup(web_url):\n",
    "    http = httplib2.Http()\n",
    "    status, response = http.request(web_url)\n",
    "    return BeautifulSoup(response, \"html.parser\")\n",
    "\n",
    "def get_articleValues(web_url):\n",
    "    output={\n",
    "                'title':'',    'articleid':'',    'author':'',    'date':'','channel':'',    'ibeat_tag':'','visible_title':'' ,\n",
    "                'article_syn':'',    'date_publish_on' :'', 'article_seo':'',  'article_text':'',    'comment_count':''\n",
    "                }\n",
    "    try:\n",
    "        article=getSoup(web_url).find('article')\n",
    "    except:\n",
    "        try:\n",
    "            print(\"***********functional Network issue... waiting few secons...\")\n",
    "            time.sleep(5)\n",
    "            article=getSoup(web_url).find('article')\n",
    "        except:\n",
    "            print(\"***This is other issue returning blank.\")\n",
    "            return output\n",
    "    if(article==None): return output\n",
    "    output= {\n",
    "    'title':article.find('input',{'id':'article_title'})['value'],\n",
    "    'articleid':article['data-articleid'],\n",
    "    'author':article['data-ibeat_author'],\n",
    "    'date':article['data-artidate'],\n",
    "\n",
    "    'channel':article['data-ibeat_channel'],\n",
    "    'ibeat_tag':article['data-ibeat_tag'],\n",
    "\n",
    "    'visible_title':article.find('h1',{'class':'title'}).text,\n",
    "    'article_syn':article.find('input',{'id':'article_syn'})['value'],\n",
    "    'date_publish_on' :article.find('div',{'class':'publish_on'}).text,\n",
    "    'article_seo':article.find('input',{'id':'article_seo'})['value'],\n",
    "    # \n",
    "    'article_text':article.find('div',{'class':'artText'}).text,\n",
    "    'comment_count':article.find('div',{'class':'comment_count'}).find('span').text\n",
    "    }\n",
    "    return output"
   ]
  },
  {
   "cell_type": "code",
   "execution_count": 3,
   "metadata": {
    "collapsed": true
   },
   "outputs": [],
   "source": [
    "et_headlines_pkl_path=r'D:\\SoftwareWebApps\\Python\\python_wb\\news_scrap\\Data\\et_headlines\\\\'\n",
    "et_news_pkl_path=r'D:\\SoftwareWebApps\\Python\\python_wb\\news_scrap\\Data\\et_news\\\\'\n",
    "base_url='https://economictimes.indiatimes.com'\n"
   ]
  },
  {
   "cell_type": "code",
   "execution_count": null,
   "metadata": {},
   "outputs": [
    {
     "name": "stdout",
     "output_type": "stream",
     "text": [
      "2006-10-17 processing 138 headlines, 1,2,3,4,5,6,7,8,9,10,11,12,13,14,15,16,17,18,19,20,21,22,23,24,25,26,27,28,29,30,31,32,33,34,35,36,37,38,39,40,41,42,43,44,45,46,47,48,49,50,51,52,53,54,55,56,57,58,59,60,61,62,63,64,65,66,67,68,69,70,71,72,73,74,75,76,77,78,79,80,81,82,83,84,85,86,87,88,89,90,91,92,93,94,95,96,97,98,99,100,101,102,103,104,105,106,107,108,109,110,111,112,113,114,115,116,117,118,119,120,121,122,123,124,125,126,127,128,129,130,131,132,133,134,135,136,137,138,Took 0:05:17.201951 h:m:s\n",
      "Number processed sofar is 138 headlines \n",
      "2006-10-18 processing 144 headlines, 1,2,3,4,5,6,7,8,9,10,11,12,13,14,15,16,17,18,19,20,21,22,23,24,25,26,27,28,29,30,31,32,33,34,35,36,37,38,39,40,41,42,43,44,45,46,47,48,49,50,51,52,53,54,55,56,57,58,59,60,61,62,63,64,65,66,67,68,69,70,71,72,73,74,75,76,77,78,79,80,81,82,83,84,85,86,87,88,89,90,91,92,93,94,95,96,97,98,99,100,101,102,103,104,105,106,107,108,109,110,111,112,113,114,115,116,117,118,119,120,121,122,123,124,125,126,127,128,129,130,131,132,133,134,135,136,137,138,139,140,141,142,143,144,Took 0:15:53.425876 h:m:s\n",
      "Number processed sofar is 282 headlines \n",
      "2006-10-19 processing 103 headlines, 1,2,3,4,5,6,7,8,9,10,11,12,13,14,15,16,17,18,19,20,21,22,23,24,25,26,27,28,29,30,31,32,33,34,35,36,37,38,39,40,41,42,43,44,45,46,47,48,49,50,51,52,53,54,55,56,57,58,59,60,61,62,63,64,65,"
     ]
    }
   ],
   "source": [
    "ftime=datetime.now()\n",
    "t=0\n",
    "nh=0\n",
    "# while(True):\n",
    "s_pklist=os.listdir(et_headlines_pkl_path)\n",
    "exist_pklist=os.listdir(et_news_pkl_path)\n",
    "pklist=np.setdiff1d(s_pklist,exist_pklist)\n",
    "try:\n",
    "    for pfile in pklist:   \n",
    "        i=0\n",
    "#         print(pfile)\n",
    "        hl=load_pkl(et_headlines_pkl_path+pfile)\n",
    "        \n",
    "        news=[]\n",
    "        stime=datetime.now()\n",
    "#         print(len(hl))\n",
    "        print('{} processing {} headlines'.format(pfile[:-4],len(hl)),end=', ')\n",
    "        for h in hl:\n",
    "            i +=1\n",
    "            print(i,end=',')\n",
    "#             print(getSoup(base_url+h['link']).find('article'))\n",
    "            news.append(get_articleValues(base_url+h['link']))\n",
    "        save_pkl(et_news_pkl_path+pfile,news)\n",
    "        t +=i\n",
    "        print('Took {} h:m:s'.format(datetime.now()-stime))\n",
    "        nh +=len(hl)\n",
    "        print('Number processed sofar is {} headlines '.format(nh))\n",
    "except:\n",
    "    print(\"******************************Network issue... waiting few secons...\")\n",
    "    time.sleep(5)\n",
    "print('Total time it took is {} h:m:s'.format(datetime.now()-ftime))\n",
    "print('Number processed sofar is {} headlines '.format(nh))   "
   ]
  },
  {
   "cell_type": "code",
   "execution_count": null,
   "metadata": {
    "collapsed": true
   },
   "outputs": [],
   "source": [
    "mnews=[]\n",
    "for h in hl[1:3]:\n",
    "    i +=1\n",
    "    web_url=base_url+h['link']\n",
    "    print(web_url)\n",
    "    art=getSoup(web_url).find('article')\n",
    "    if(art==None):    print(art)\n",
    "# try:\n",
    "#     getSoup(base_url+h['link'])\n",
    "# except CertificateError as ce:\n",
    "#     print(ce)"
   ]
  }
 ],
 "metadata": {
  "kernelspec": {
   "display_name": "Python 3",
   "language": "python",
   "name": "python3"
  },
  "language_info": {
   "codemirror_mode": {
    "name": "ipython",
    "version": 3
   },
   "file_extension": ".py",
   "mimetype": "text/x-python",
   "name": "python",
   "nbconvert_exporter": "python",
   "pygments_lexer": "ipython3",
   "version": "3.6.1"
  }
 },
 "nbformat": 4,
 "nbformat_minor": 2
}
