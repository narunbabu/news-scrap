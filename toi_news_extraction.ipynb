{
 "cells": [
  {
   "cell_type": "code",
   "execution_count": 1,
   "metadata": {
    "collapsed": true
   },
   "outputs": [],
   "source": [
    "import httplib2\n",
    "import os\n",
    "import pandas as pd\n",
    "import numpy as np\n",
    "from bs4 import BeautifulSoup, SoupStrainer\n",
    "import sys\n",
    "sys.path.append( '../Stocks')\n",
    "from nse_pickle_fns import *\n",
    "from datetime import datetime\n",
    "import time\n",
    "def getSoup(web_url):\n",
    "    http = httplib2.Http()\n",
    "    status, response = http.request(web_url)\n",
    "    return BeautifulSoup(response, \"html.parser\")\n",
    "\n",
    "def get_articleValues(web_url):\n",
    "    \n",
    "    try:\n",
    "        article=getSoup(web_url)\n",
    "        m_content=article.find('div',{'class':'main-content'})\n",
    "    except:\n",
    "        try:\n",
    "            print(\"******************************Network issue... waiting few secons...\")\n",
    "            time.sleep(5)\n",
    "            article=getSoup(web_url)\n",
    "            m_content=article.find('div',{'class':'main-content'})\n",
    "        except:\n",
    "            print(\"***This is other issue returning blank.\")\n",
    "    \n",
    "    try:        \n",
    "        data_info=article.find('div',{'data-articleseo':True})\n",
    "        art_seo=data_info['data-articleseo']\n",
    "        url_short=data_info['data-shorturl']\n",
    "    except:\n",
    "        art_seo=''\n",
    "        url_short=web_url\n",
    "    \n",
    "    \n",
    "    try:\n",
    "        title=m_content.find('arttitle').text\n",
    "        author=m_content.find('span',{'itemprop':'author'}).text\n",
    "        time=m_content.find('time')['datetime']\n",
    "        try:\n",
    "\n",
    "            art_text=m_content.find('div',{'class':'article_content'}).text\n",
    "        except:\n",
    "            art_text=m_content.find('div',{'class':'section1'}).text\n",
    "    except:\n",
    "        title=''\n",
    "        art_text=''\n",
    "        author=''\n",
    "        time=''\n",
    "        \n",
    "    \n",
    "    \n",
    "    try:\n",
    "        highlight=m_content.find('artsummary').text\n",
    "    except:\n",
    "        highlight=''\n",
    "    try:\n",
    "        img_link=m_content.find('img')['src']\n",
    "        img_caption=m_content.find('span',{'class':'img_cptn'})['data-cptn']\n",
    "    except:\n",
    "        img_link=''\n",
    "        img_caption=''\n",
    "    return {'title':title,'author':author,'time':time,'art_seo':art_seo,'highlight':highlight,\n",
    "                    'img_link':img_link,'img_caption':img_caption,'url_short':url_short,'art_text':art_text}"
   ]
  },
  {
   "cell_type": "code",
   "execution_count": 5,
   "metadata": {
    "collapsed": true
   },
   "outputs": [],
   "source": [
    "toi_headlines_pkl_path=r'D:\\SoftwareWebApps\\Python\\python_wb\\news_scrap\\Data\\toi_headlines\\\\'\n",
    "toi_news_pkl_path=r'D:\\SoftwareWebApps\\Python\\python_wb\\news_scrap\\Data\\toi_news\\\\'\n",
    "base_url='https://timesofindia.indiatimes.com'\n"
   ]
  },
  {
   "cell_type": "code",
   "execution_count": null,
   "metadata": {},
   "outputs": [
    {
     "name": "stdout",
     "output_type": "stream",
     "text": [
      "2002-02-18 processing 301 headlines, 1,2,3,4,5,6,7,8,9,10,11,12,13,14,15,16,17,18,19,20,21,22,23,24,25,26,27,28,29,30,31,32,33,34,35,36,37,38,39,40,41,42,43,44,45,46,47,48,49,50,51,52,53,54,55,56,57,58,59,60,61,62,63,64,65,66,67,68,69,70,71,72,73,74,75,76,77,78,79,80,81,82,83,84,85,86,87,88,89,90,91,92,93,94,95,96,97,98,99,100,101,102,103,104,105,106,107,108,109,110,111,112,113,114,115,116,117,118,119,120,121,122,123,124,125,126,127,128,129,130,131,132,133,134,135,136,137,138,139,140,141,142,143,144,145,146,147,148,149,150,151,152,153,154,155,156,157,158,159,160,161,162,163,164,165,166,167,168,169,170,171,172,173,174,175,176,177,178,179,180,181,182,183,184,185,186,187,188,189,190,191,192,193,194,195,196,197,198,199,200,201,202,203,204,205,206,207,208,209,210,211,212,213,214,215,216,217,218,219,220,221,222,223,224,225,226,227,228,229,230,231,232,233,234,235,236,237,238,239,240,241,242,243,244,245,246,247,248,249,250,251,252,253,254,255,256,257,258,259,260,261,262,263,264,265,266,267,268,269,270,271,272,273,274,275,276,277,278,279,280,281,282,283,284,285,286,287,288,289,290,291,292,293,294,295,296,297,298,299,300,301,Took 0:04:16.522494 h:m:s\n",
      "Number processed sofar is 301 headlines \n",
      "2002-02-19 processing 235 headlines, 1,2,3,4,5,6,7,8,9,10,11,12,13,14,15,16,17,18,19,20,21,22,23,24,25,26,27,28,29,30,31,32,33,34,35,36,37,38,39,40,41,42,43,44,45,46,47,48,49,50,51,52,53,54,55,56,57,58,59,60,61,62,63,64,65,66,67,68,69,70,71,72,73,74,75,76,77,78,79,80,81,82,83,84,85,86,87,88,89,90,91,92,93,94,95,96,97,98,99,100,101,102,103,104,105,106,107,108,109,110,111,112,113,114,115,116,117,118,119,120,121,122,123,124,125,126,127,128,129,130,131,132,133,134,135,136,137,138,139,140,141,142,143,144,145,146,147,148,149,150,151,152,153,154,155,156,157,158,159,160,161,162,163,164,165,166,167,168,169,170,171,172,173,174,175,176,177,178,179,180,181,182,183,184,185,186,187,188,189,190,191,192,193,194,195,196,197,198,199,200,201,202,203,204,205,206,207,208,209,210,211,212,213,214,215,216,217,218,219,220,221,222,223,224,225,226,227,228,229,230,231,232,233,234,235,Took 0:02:47.209222 h:m:s\n",
      "Number processed sofar is 536 headlines \n",
      "2002-02-20 processing 325 headlines, 1,2,3,4,5,6,7,8,9,10,11,12,13,14,15,16,17,18,19,20,21,22,23,24,25,26,27,28,29,30,31,32,33,34,35,36,37,38,39,40,41,42,43,44,45,46,47,48,49,50,51,52,53,54,55,56,57,58,59,60,61,62,63,64,65,66,67,68,69,70,71,72,73,74,75,76,77,78,79,80,81,82,83,84,85,86,87,88,89,90,91,92,93,94,95,96,97,98,99,100,101,102,103,104,105,106,107,108,109,110,111,112,113,114,115,116,117,118,119,120,121,122,123,124,125,126,127,128,129,130,131,132,133,134,135,136,137,138,139,140,141,142,143,144,145,146,147,148,149,150,151,152,153,154,155,156,157,158,159,160,161,162,163,164,165,166,167,168,169,170,171,172,173,174,175,176,177,178,179,180,181,182,183,184,185,186,187,188,189,190,191,192,193,194,195,196,197,198,199,200,201,202,203,204,205,206,207,208,209,210,211,212,213,214,215,216,217,218,219,220,221,222,223,224,225,226,227,228,229,230,231,232,233,234,235,236,237,238,239,240,241,242,243,244,245,246,247,248,249,250,251,252,253,254,255,256,257,258,259,260,261,262,263,264,265,266,267,268,269,270,271,272,273,274,275,276,277,278,279,280,281,282,283,284,285,286,287,288,289,290,291,292,293,294,295,296,297,298,299,300,301,302,303,304,305,306,307,308,309,310,311,312,313,314,315,316,317,318,319,320,321,322,323,324,325,Took 0:03:53.265052 h:m:s\n",
      "Number processed sofar is 861 headlines \n",
      "2002-02-21 processing 233 headlines, 1,2,3,4,5,6,7,8,9,10,11,12,13,14,15,16,17,18,19,20,21,22,23,24,25,26,27,28,29,30,31,32,33,34,35,36,37,38,39,40,41,42,43,44,45,46,47,48,49,50,51,52,53,54,55,56,57,58,59,60,61,62,63,64,65,66,67,68,69,70,71,72,73,74,75,76,77,78,79,80,81,82,83,84,85,86,87,88,89,90,91,92,93,94,95,96,97,98,99,100,101,102,103,104,105,106,107,108,109,110,111,112,113,114,115,116,117,118,119,120,121,122,123,124,125,126,127,128,129,130,131,132,133,134,135,136,137,138,139,140,141,142,143,144,145,146,147,148,149,150,151,152,153,154,155,156,157,158,159,160,161,162,163,164,165,166,167,168,169,170,171,172,173,174,175,176,177,178,179,180,181,182,183,184,185,186,187,188,189,190,191,192,193,194,195,196,197,198,199,200,201,202,203,204,205,206,207,208,209,210,211,212,213,214,215,216,217,218,219,220,221,222,223,224,225,226,227,228,229,230,231,232,233,Took 0:02:51.131536 h:m:s\n",
      "Number processed sofar is 1094 headlines \n",
      "2002-02-22 processing 243 headlines, 1,2,3,4,5,6,7,8,9,10,11,12,13,14,15,16,17,18,19,20,21,22,23,24,25,26,27,28,29,30,31,32,33,34,35,36,37,38,39,40,41,42,43,44,45,46,47,48,49,50,51,52,53,54,55,56,57,58,59,60,61,62,63,64,65,66,67,68,69,70,71,72,73,74,75,76,77,78,79,80,81,82,83,84,85,86,87,88,89,90,91,92,93,94,95,96,97,98,99,100,101,102,103,104,105,106,107,108,109,110,111,112,113,114,115,116,117,118,119,120,121,122,123,124,125,126,127,128,129,130,131,132,133,134,135,136,137,138,139,140,141,142,143,144,145,146,147,148,149,150,151,152,153,154,155,156,157,158,159,160,161,162,163,164,165,166,167,168,169,170,171,172,173,174,175,176,177,178,179,180,181,182,183,184,185,186,187,188,189,190,191,192,193,194,195,196,197,198,199,200,201,202,203,204,205,206,207,208,209,210,211,212,213,214,215,216,217,218,219,220,221,222,223,224,225,226,227,228,229,230,231,232,233,234,235,236,237,238,239,240,241,242,243,Took 0:02:51.861105 h:m:s\n",
      "Number processed sofar is 1337 headlines \n",
      "2002-02-23 processing 211 headlines, 1,2,3,4,5,6,7,8,9,10,11,12,13,14,15,16,17,18,19,20,21,22,23,24,25,26,27,28,29,30,31,32,33,34,35,36,37,38,39,40,41,42,43,44,45,46,47,48,49,50,51,52,53,54,55,56,57,58,59,60,61,62,63,64,65,66,67,68,69,70,71,72,73,74,75,76,77,78,79,80,81,82,83,84,85,86,87,88,89,90,91,92,93,94,95,96,97,98,99,100,101,102,103,104,105,106,107,108,109,110,111,112,113,114,115,116,117,118,119,120,121,122,123,124,125,126,127,128,129,130,131,132,133,134,135,136,137,138,139,140,141,142,143,144,145,146,147,148,149,150,151,152,153,154,155,156,157,158,159,160,161,162,163,164,165,166,167,168,169,170,171,172,173,174,175,176,177,178,179,180,181,182,183,184,185,186,187,188,189,190,191,192,193,194,195,196,197,198,199,200,201,202,203,204,205,206,207,208,209,210,211,Took 0:02:26.184625 h:m:s\n",
      "Number processed sofar is 1548 headlines \n",
      "2002-02-24 processing 230 headlines, 1,2,3,4,5,6,7,8,9,10,11,12,13,14,15,16,17,18,19,20,21,22,23,24,25,26,27,28,29,30,31,32,33,34,35,36,37,38,39,40,41,42,43,44,45,46,47,48,49,50,51,52,53,54,55,56,57,58,59,60,61,62,63,64,65,66,67,68,69,70,71,72,73,74,75,76,77,78,79,80,81,82,83,84,85,86,87,88,89,90,91,92,93,94,95,96,97,98,99,100,101,102,103,104,105,106,107,108,109,110,111,112,113,114,115,116,117,118,119,120,121,122,123,124,125,126,127,128,129,130,131,132,133,134,135,136,137,138,139,140,141,142,143,144,145,146,147,148,149,150,151,152,153,154,155,156,157,158,159,160,161,162,163,164,165,166,167,168,169,170,171,172,173,174,175,176,177,178,179,180,181,182,183,184,185,186,187,188,189,190,191,192,193,194,195,196,197,198,199,200,201,202,203,204,205,206,207,208,209,210,211,212,213,214,215,216,217,218,219,220,221,222,223,224,225,226,227,228,229,230,Took 0:03:11.967354 h:m:s\n",
      "Number processed sofar is 1778 headlines \n"
     ]
    },
    {
     "name": "stdout",
     "output_type": "stream",
     "text": [
      "2002-02-25 processing 312 headlines, 1,2,3,4,5,6,7,8,9,10,11,12,13,14,15,16,17,18,19,20,21,22,23,24,25,26,27,28,29,30,31,32,33,34,35,36,37,38,39,40,41,42,43,44,45,46,47,48,49,50,51,52,53,54,55,56,57,58,59,60,61,62,63,64,65,66,67,68,69,70,71,72,73,74,75,76,77,78,79,80,81,82,83,84,85,86,87,88,89,90,91,92,93,94,95,96,97,98,99,100,101,102,103,104,105,106,107,108,109,110,111,112,113,114,115,116,117,118,119,120,121,122,123,124,125,126,127,128,129,130,131,132,133,134,135,136,137,138,139,140,141,142,143,144,145,146,147,148,149,150,151,152,153,154,155,156,157,158,159,160,161,162,163,164,165,166,167,168,169,170,171,172,173,174,175,176,177,178,179,180,181,182,183,184,185,186,187,188,189,190,191,192,193,194,195,196,197,198,199,200,201,202,203,204,205,206,207,208,209,210,211,212,213,214,215,216,217,218,219,220,221,222,223,224,225,226,227,228,229,230,231,232,233,234,235,236,237,238,239,240,241,242,243,244,245,246,247,248,249,250,251,252,253,254,255,256,257,258,259,260,261,262,263,264,265,266,267,268,269,270,271,272,273,274,275,276,277,278,279,280,281,282,283,284,285,286,287,288,289,290,291,292,293,294,295,296,297,298,299,300,301,302,303,304,305,306,307,308,309,310,311,312,Took 0:03:24.396258 h:m:s\n",
      "Number processed sofar is 2090 headlines \n",
      "2002-02-26 processing 206 headlines, 1,2,3,4,5,6,7,8,9,10,11,12,13,14,15,16,17,18,19,20,21,22,23,24,25,26,27,28,29,30,31,32,33,34,35,36,37,38,39,40,41,42,43,44,45,46,47,48,49,50,51,52,53,54,55,56,57,58,59,60,61,62,63,64,65,66,67,68,69,70,71,72,73,74,75,76,77,78,79,80,81,82,83,84,85,86,87,88,89,90,91,92,93,94,95,96,97,98,99,100,101,102,103,104,105,106,107,108,109,110,111,112,113,114,115,116,117,118,119,120,121,122,123,124,125,126,127,128,129,130,131,132,133,134,135,136,137,138,139,140,141,142,143,144,145,146,147,148,149,150,151,152,153,154,155,156,157,158,159,160,161,162,163,164,165,166,167,168,169,170,171,172,173,174,175,176,177,"
     ]
    }
   ],
   "source": [
    "# dt=datetime.strptime(pfile,'%Y-%m-%d.pkl')\n",
    "ftime=datetime.now()\n",
    "t=0\n",
    "nh=0\n",
    "\n",
    "s_pklist=os.listdir(toi_headlines_pkl_path)\n",
    "exist_pklist=os.listdir(toi_news_pkl_path)\n",
    "pklist=np.setdiff1d(s_pklist,exist_pklist)\n",
    "# pklist\n",
    "\n",
    "try:        \n",
    "    for pfile in pklist:  \n",
    "        i=0\n",
    "        hl=load_pkl(toi_headlines_pkl_path+pfile)\n",
    "        news=[]\n",
    "        stime=datetime.now()\n",
    "        print('{} processing {} headlines'.format(pfile[:-4],len(hl)),end=', ')\n",
    "        for h in hl:        \n",
    "            news.append(get_articleValues(h['link'])) #base_url+\n",
    "            i +=1\n",
    "            print(i,end=',')\n",
    "        save_pkl(toi_news_pkl_path+pfile,news)\n",
    "        t +=i\n",
    "        print('Took {} h:m:s'.format(datetime.now()-stime))\n",
    "        nh +=len(hl)\n",
    "        print('Number processed sofar is {} headlines '.format(nh))\n",
    "except:\n",
    "    print(\"******************************Network issue... waiting few secons...\")\n",
    "    time.sleep(5)\n",
    "print('Total time it took is {} h:m:s'.format(datetime.now()-ftime))\n",
    "print('Number processed sofar is {} headlines '.format(nh))\n",
    "    "
   ]
  },
  {
   "cell_type": "code",
   "execution_count": 12,
   "metadata": {},
   "outputs": [
    {
     "ename": "PermissionError",
     "evalue": "[Errno 13] Permission denied: 'D:\\\\SoftwareWebApps\\\\Python\\\\python_wb\\\\news_scrap\\\\Data\\\\toi_headlines\\\\\\\\.git'",
     "output_type": "error",
     "traceback": [
      "\u001b[1;31m---------------------------------------------------------------------------\u001b[0m",
      "\u001b[1;31mPermissionError\u001b[0m                           Traceback (most recent call last)",
      "\u001b[1;32m<ipython-input-12-2a24666a4e23>\u001b[0m in \u001b[0;36m<module>\u001b[1;34m()\u001b[0m\n\u001b[0;32m      1\u001b[0m \u001b[1;31m# hl[i-1]['link']\u001b[0m\u001b[1;33m\u001b[0m\u001b[1;33m\u001b[0m\u001b[0m\n\u001b[1;32m----> 2\u001b[1;33m \u001b[0mhl\u001b[0m\u001b[1;33m=\u001b[0m\u001b[0mload_pkl\u001b[0m\u001b[1;33m(\u001b[0m\u001b[0mtoi_headlines_pkl_path\u001b[0m\u001b[1;33m+\u001b[0m\u001b[0mpfile\u001b[0m\u001b[1;33m)\u001b[0m\u001b[1;33m\u001b[0m\u001b[0m\n\u001b[0m",
      "\u001b[1;32mD:\\SoftwareWebApps\\Python\\python_wb\\Stocks\\nse_pickle_fns.py\u001b[0m in \u001b[0;36mload_pkl\u001b[1;34m(file)\u001b[0m\n\u001b[0;32m      8\u001b[0m         \u001b[0mf\u001b[0m\u001b[1;33m.\u001b[0m\u001b[0mclose\u001b[0m\u001b[1;33m(\u001b[0m\u001b[1;33m)\u001b[0m\u001b[1;33m\u001b[0m\u001b[0m\n\u001b[0;32m      9\u001b[0m \u001b[1;32mdef\u001b[0m \u001b[0mload_pkl\u001b[0m\u001b[1;33m(\u001b[0m\u001b[0mfile\u001b[0m\u001b[1;33m)\u001b[0m\u001b[1;33m:\u001b[0m\u001b[1;33m\u001b[0m\u001b[0m\n\u001b[1;32m---> 10\u001b[1;33m     \u001b[1;32mwith\u001b[0m \u001b[0mopen\u001b[0m\u001b[1;33m(\u001b[0m\u001b[0mfile\u001b[0m\u001b[1;33m,\u001b[0m \u001b[1;34m'rb'\u001b[0m\u001b[1;33m)\u001b[0m \u001b[1;32mas\u001b[0m \u001b[0mf\u001b[0m\u001b[1;33m:\u001b[0m  \u001b[1;31m# Python 3: open(..., 'wb')\u001b[0m\u001b[1;33m\u001b[0m\u001b[0m\n\u001b[0m\u001b[0;32m     11\u001b[0m         \u001b[0mvar\u001b[0m \u001b[1;33m=\u001b[0m \u001b[0mpickle\u001b[0m\u001b[1;33m.\u001b[0m\u001b[0mload\u001b[0m\u001b[1;33m(\u001b[0m\u001b[0mf\u001b[0m\u001b[1;33m)\u001b[0m\u001b[1;33m\u001b[0m\u001b[0m\n\u001b[0;32m     12\u001b[0m         \u001b[0mf\u001b[0m\u001b[1;33m.\u001b[0m\u001b[0mclose\u001b[0m\u001b[1;33m(\u001b[0m\u001b[1;33m)\u001b[0m\u001b[1;33m\u001b[0m\u001b[0m\n",
      "\u001b[1;31mPermissionError\u001b[0m: [Errno 13] Permission denied: 'D:\\\\SoftwareWebApps\\\\Python\\\\python_wb\\\\news_scrap\\\\Data\\\\toi_headlines\\\\\\\\.git'"
     ]
    }
   ],
   "source": [
    "# hl[i-1]['link']\n",
    "hl=load_pkl(toi_headlines_pkl_path+pfile)"
   ]
  },
  {
   "cell_type": "code",
   "execution_count": 4,
   "metadata": {
    "collapsed": true
   },
   "outputs": [],
   "source": [
    "# # ne=load_pkl(et_news_pkl_path+s_pklist[1])\n",
    "# # ne\n",
    "# web_url=base_url+hl[0]['link']\n",
    "# # article=getSoup(web_url)\n",
    "# get_articleValues(article)"
   ]
  },
  {
   "cell_type": "code",
   "execution_count": 5,
   "metadata": {
    "collapsed": true
   },
   "outputs": [],
   "source": [
    "\n",
    "# m_content=article.find('div',{'class':'main-content'})\n",
    "# auth_time=m_content.find('span',{'class':'time_cptn'}).find_all('span')\n",
    "\n",
    "# author=m_content.find('span',{'itemprop':'author'}).text\n",
    "# time=m_content.find('time')['datetime']\n",
    "# art_text=m_content.find('div',{'class':'section1'}).text\n",
    "# title=m_content.find('arttitle').text\n",
    "# try:\n",
    "#     highlight=m_content.find('artsummary').text\n",
    "# except:\n",
    "#     highlight=''\n",
    "# try:\n",
    "#     img_link=m_content.find('img')['src']\n",
    "#     img_caption=m_content.find('span',{'class':'img_cptn'})['data-cptn']\n",
    "# except:\n",
    "#     img_link=''\n",
    "#     img_caption=''\n",
    "# {'title':title,'author':author,'time':time,'highlight':highlight,\n",
    "#                 'img_link':img_link,'img_caption':img_caption,'art_text':art_text}"
   ]
  },
  {
   "cell_type": "code",
   "execution_count": 6,
   "metadata": {
    "collapsed": true
   },
   "outputs": [],
   "source": [
    "# base_url+hl[0]['link']\n",
    "# # s=getSoup(base_url+hl[0]['link'])"
   ]
  },
  {
   "cell_type": "code",
   "execution_count": 7,
   "metadata": {
    "collapsed": true
   },
   "outputs": [],
   "source": [
    "# # base_url+hl[0]['link']\n",
    "# article=s.find('article')\n",
    "# def get_articleValues(article):\n",
    "#     return {\n",
    "#     'title':article.find('input',{'id':'article_title'})['value'],\n",
    "#     'articleid':article['data-articleid'],\n",
    "#     'author':article['data-ibeat_author'],\n",
    "#     'date':article['data-artidate'],\n",
    "\n",
    "#     'channel':article['data-ibeat_channel'],\n",
    "#     'ibeat_tag':article['data-ibeat_tag'],\n",
    "\n",
    "#     'visible_title':article.find('h1',{'class':'title'}).text,\n",
    "#     'article_syn':article.find('input',{'id':'article_syn'})['value'],\n",
    "#     'date_publish_on' :article.find('div',{'class':'publish_on'}).text,\n",
    "#     'article_seo':article.find('input',{'id':'article_seo'})['value'],\n",
    "#     # \n",
    "#     'article_text':article.find('div',{'class':'artText'}).text,\n",
    "#     'comment_count':article.find('div',{'class':'comment_count'}).find('span').text\n",
    "#     }\n",
    "\n",
    "# # title,date,author,article_syn,visible_title,visible_publish_on,article_seo,comment_count,article_text\n",
    "# # article\n",
    "# article_values"
   ]
  },
  {
   "cell_type": "code",
   "execution_count": 24,
   "metadata": {},
   "outputs": [
    {
     "data": {
      "text/plain": [
       "'Nov 03, 2001, 03.12 PM IST'"
      ]
     },
     "execution_count": 24,
     "metadata": {},
     "output_type": "execute_result"
    }
   ],
   "source": [
    "article=s.find('article')\n",
    "\n",
    "\n",
    "\n",
    "# inputTag = article.find(attrs={\"name\": \"data-artidate\"})\n",
    "# inputTag\n",
    "# output = inputTag['value']"
   ]
  },
  {
   "cell_type": "code",
   "execution_count": null,
   "metadata": {
    "collapsed": true
   },
   "outputs": [],
   "source": [
    ",{\"src\":True}"
   ]
  }
 ],
 "metadata": {
  "kernelspec": {
   "display_name": "Python 3",
   "language": "python",
   "name": "python3"
  },
  "language_info": {
   "codemirror_mode": {
    "name": "ipython",
    "version": 3
   },
   "file_extension": ".py",
   "mimetype": "text/x-python",
   "name": "python",
   "nbconvert_exporter": "python",
   "pygments_lexer": "ipython3",
   "version": "3.6.1"
  }
 },
 "nbformat": 4,
 "nbformat_minor": 2
}
